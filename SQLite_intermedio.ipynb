{
  "nbformat": 4,
  "nbformat_minor": 0,
  "metadata": {
    "colab": {
      "provenance": [],
      "authorship_tag": "ABX9TyPzoEg8Ttdbd5PBN2CVUKP7",
      "include_colab_link": true
    },
    "kernelspec": {
      "name": "python3",
      "display_name": "Python 3"
    },
    "language_info": {
      "name": "python"
    }
  },
  "cells": [
    {
      "cell_type": "markdown",
      "metadata": {
        "id": "view-in-github",
        "colab_type": "text"
      },
      "source": [
        "<a href=\"https://colab.research.google.com/github/mteoraso/DataScience_practice/blob/EDA-Projects/SQLite_intermedio.ipynb\" target=\"_parent\"><img src=\"https://colab.research.google.com/assets/colab-badge.svg\" alt=\"Open In Colab\"/></a>"
      ]
    },
    {
      "cell_type": "markdown",
      "source": [
        "**Creacion de bases de datos con SQLITE**"
      ],
      "metadata": {
        "id": "9439FM7XTggr"
      }
    },
    {
      "cell_type": "code",
      "execution_count": 1,
      "metadata": {
        "id": "jm8JUFtzTL2v"
      },
      "outputs": [],
      "source": [
        "import sqlite3  ## Importar motor de bases de datos"
      ]
    },
    {
      "cell_type": "code",
      "source": [
        "## Crear la consulta\n",
        "query = \"\"\"\n",
        "  CREATE TABLE comunidades_energeticas (\n",
        "  id_comunidad INTEGER PRIMARY KEY AUTOINCREMENT,\n",
        "  nombre TEXT NOT NULL,\n",
        "  descripcion TEXT DEFAULT NULL,\n",
        "  ubicacion TEXT DEFAULT NULL,\n",
        "  proyecto_asociado INTEGER,\n",
        "  FOREIGN KEY (proyecto_asociado) REFERENCES proyectos(id_proyecto)\n",
        ");\"\"\""
      ],
      "metadata": {
        "id": "I1wIpoW9Thi-"
      },
      "execution_count": 2,
      "outputs": []
    },
    {
      "cell_type": "code",
      "source": [
        "con = sqlite3.connect(\"mydata.sqlite\")  ## Crear base de datos\n",
        "con.execute(query)                      ## Ejecutar consulta"
      ],
      "metadata": {
        "colab": {
          "base_uri": "https://localhost:8080/"
        },
        "id": "ojw-vpA4Tlpe",
        "outputId": "75584eb2-aed8-4bba-8603-02b4e3cf88f3"
      },
      "execution_count": 3,
      "outputs": [
        {
          "output_type": "execute_result",
          "data": {
            "text/plain": [
              "<sqlite3.Cursor at 0x7ebcea1693c0>"
            ]
          },
          "metadata": {},
          "execution_count": 3
        }
      ]
    },
    {
      "cell_type": "code",
      "source": [
        "con.commit()  ## Para confirmar los cambios"
      ],
      "metadata": {
        "id": "zFFOeu2xe98B"
      },
      "execution_count": 4,
      "outputs": []
    },
    {
      "cell_type": "code",
      "source": [
        "## Rellenar columnas con datos\n",
        "data = [\n",
        "    (1, \"Comunidad Solar Andes\",\n",
        "     \"Comunidad que utiliza energía solar\", \"Andes\", 1),\n",
        "    (2, \"Comunidad Eólica La Guajira\",\n",
        "     \"Comunidad que utiliza energía eólica\", \"La Guajira\", 2),\n",
        "    (3, \"Comunidad Biomasa Cauca\",\n",
        "     \"Comunidad que utiliza energía de biomasa\", \"Cauca\", 4),\n",
        "    (4, \"Comunidad Geotérmica Nariño\",\n",
        "     \"Comunidad que utiliza energía geotérmica\", \"Nariño\", 5)\n",
        "    ]\n",
        "## Asocio la cantidad de signos ? con las columnas a rellenar\n",
        "stmt = \"INSERT INTO comunidades_energeticas VALUES(?, ?, ?, ?, ?)\"\n",
        "\n",
        "con.executemany(stmt, data)  ## Ejecuto varias consultas de manera simultanea\n",
        "\n",
        "con.commit()  ## Confirmar cambios"
      ],
      "metadata": {
        "id": "0zdhY2qVTr8L"
      },
      "execution_count": 5,
      "outputs": []
    },
    {
      "cell_type": "code",
      "source": [
        "query = \"\"\"\n",
        "  CREATE TABLE eficiencia_energetica (\n",
        "  id_eficiencia INTEGER PRIMARY KEY AUTOINCREMENT,\n",
        "  proyecto_id INTEGER,\n",
        "  tipo_energia_id INTEGER,\n",
        "  fecha DATE DEFAULT NULL,\n",
        "  kw_h_generado REAL DEFAULT NULL,\n",
        "  costo_produccion REAL DEFAULT NULL,\n",
        "  costo_comercializacion REAL DEFAULT NULL,\n",
        "  tiempos_muertos INTEGER DEFAULT NULL,\n",
        "  clima TEXT DEFAULT NULL,\n",
        "  indicador_economico REAL DEFAULT NULL,\n",
        "  indicador_sociodemografico REAL DEFAULT NULL,\n",
        "  FOREIGN KEY (proyecto_id) REFERENCES proyectos(id_proyecto),\n",
        "  FOREIGN KEY (tipo_energia_id) REFERENCES tipos_energia(id_tipo)\n",
        ");\n",
        "\"\"\""
      ],
      "metadata": {
        "id": "SSJ7jnRQfntn"
      },
      "execution_count": 6,
      "outputs": []
    },
    {
      "cell_type": "code",
      "source": [
        "con.execute(query)"
      ],
      "metadata": {
        "colab": {
          "base_uri": "https://localhost:8080/"
        },
        "id": "W_Ri-Qq0gF8f",
        "outputId": "54db1a83-eb9c-4e49-da8f-df7665701b82"
      },
      "execution_count": 7,
      "outputs": [
        {
          "output_type": "execute_result",
          "data": {
            "text/plain": [
              "<sqlite3.Cursor at 0x7ebcea169440>"
            ]
          },
          "metadata": {},
          "execution_count": 7
        }
      ]
    },
    {
      "cell_type": "code",
      "source": [
        "data = [\n",
        "    (1, 1, 3, \"2022-01-01\", 1500.00, 100000.00, 5000.00, 2, \"Soleado\", 80.00, 70.00),\n",
        "    (2, 1, 3, \"2022-01-02\", 1520.00, 101000.00, 5100.00, 1, \"Soleado\", 81.00, 71.00),\n",
        "    (3, 1, 3, \"2022-01-03\", 1480.00, 99000.00, 4900.00, 3, \"Nublado\", 79.00, 69.00),\n",
        "    (4, 1, 3, \"2022-01-04\", 1510.00, 100500.00, 5050.00, 2, \"Soleado\", 80.50, 70.50),\n",
        "    (5, 1, 3, \"2022-01-05\", 1490.00, 99500.00, 4975.00, 2, \"Nublado\", 79.50, 69.50),\n",
        "    (6, 1, 3, \"2022-01-06\", 1505.00, 100250.00, 5025.00, 1, \"Soleado\", 80.25, 70.25),\n",
        "    (7, 1, 3, \"2022-01-07\", 1515.00, 100750.00, 5075.00, 2, \"Nublado\", 80.75, 70.75),\n",
        "    (8, 1, 3, \"2022-01-08\", 1525.00, 101250.00, 5125.00, 3, \"Soleado\", 81.25, 71.25),\n",
        "    (9, 1, 3, \"2022-01-09\", 1485.00, 99250.00, 4950.00, 1, \"Nublado\", 79.25, 69.25),\n",
        "    (10, 1, 3, \"2022-01-10\", 1475.00, 98750.00, 4925.00, 2, \"Soleado\", 78.75, 68.75),\n",
        "    (11, 2, 2, \"2021-06-01\", 2000.00, 150000.00, 8000.00, 1, \"Ventoso\", 85.00, 65.00),\n",
        "    (12, 2, 2, \"2021-06-02\", 2020.00, 151000.00, 8100.00, 0, \"Ventoso\", 86.00, 66.00),\n",
        "    (13, 2, 2, \"2021-06-03\", 1980.00, 149000.00, 7900.00, 2, \"Lluvioso\", 84.00, 64.00),\n",
        "    (14, 2, 2, \"2021-06-04\", 2010.00, 150500.00, 8050.00, 1, \"Ventoso\", 85.50, 65.50),\n",
        "    (15, 2, 2, \"2021-06-05\", 1990.00, 149500.00, 7975.00, 1, \"Lluvioso\", 84.50, 64.50),\n",
        "    (16, 2, 2, \"2021-06-06\", 2005.00, 150250.00, 8025.00, 0, \"Ventoso\", 85.25, 65.25),\n",
        "    (17, 2, 2, \"2021-06-07\", 2015.00, 150750.00, 8075.00, 1, \"Ventoso\", 85.75, 65.75),\n",
        "    (18, 2, 2, \"2021-06-08\", 2025.00, 151250.00, 8125.00, 2, \"Lluvioso\", 86.25, 66.25),\n",
        "    (19, 2, 2, \"2021-06-09\", 1985.00, 149250.00, 7950.00, 0, \"Ventoso\", 84.25, 64.25),\n",
        "    (20, 2, 2, \"2021-06-10\", 1975.00, 148750.00, 7925.00, 1, \"Ventoso\", 83.75, 63.75),\n",
        "    (21, 3, 1, \"2023-04-01\", 1800.00, 120000.00, 6000.00, 3, \"Lluvioso\", 75.00, 72.00),\n",
        "    (22, 3, 1, \"2023-04-02\", 1820.00, 121000.00, 6100.00, 2, \"Nublado\", 76.00, 73.00),\n",
        "    (23, 3, 1, \"2023-04-03\", 1780.00, 119000.00, 5900.00, 4, \"Lluvioso\", 74.00, 71.00),\n",
        "    (24, 3, 1, \"2023-04-04\", 1810.00, 120500.00, 6050.00, 3, \"Soleado\", 75.50, 72.50),\n",
        "    (25, 3, 1, \"2023-04-05\", 1790.00, 119500.00, 5975.00, 3, \"Lluvioso\", 74.50, 71.50),\n",
        "    (26, 3, 1, \"2023-04-06\", 1805.00, 120250.00, 6025.00, 2, \"Nublado\", 75.25, 72.25),\n",
        "    (27, 3, 1, \"2023-04-07\", 1815.00, 120750.00, 6075.00, 3, \"Lluvioso\", 75.75, 72.75),\n",
        "    (28, 3, 1, \"2023-04-08\", 1825.00, 121250.00, 6125.00, 4, \"Soleado\", 76.25, 73.25),\n",
        "    (29, 3, 1, \"2023-04-09\", 1785.00, 119250.00, 5950.00, 2, \"Lluvioso\", 74.25, 71.25),\n",
        "    (30, 3, 1, \"2023-04-10\", 1775.00, 118750.00, 5925.00, 3, \"Nublado\", 73.75, 70.75),\n",
        "    (31, 4, 4, \"2022-07-01\", 1600.00, 110000.00, 7000.00, 0, \"Nublado\", 78.00, 68.00),\n",
        "    (32, 4, 4, \"2022-07-02\", 1620.00, 111000.00, 7100.00, 1, \"Soleado\", 79.00, 69.00),\n",
        "    (33, 4, 4, \"2022-07-03\", 1580.00, 109000.00, 6900.00, 2, \"Nublado\", 77.00, 67.00),\n",
        "    (34, 4, 4, \"2022-07-04\", 1610.00, 110500.00, 7050.00, 1, \"Soleado\", 78.50, 68.50),\n",
        "    (35, 4, 4, \"2022-07-05\", 1590.00, 109500.00, 6975.00, 0, \"Nublado\", 77.50, 67.50),\n",
        "    (36, 4, 4, \"2022-07-06\", 1605.00, 110250.00, 7025.00, 1, \"Soleado\", 78.25, 68.25),\n",
        "    (37, 4, 4, \"2022-07-07\", 1615.00, 110750.00, 7075.00, 2, \"Nublado\", 78.75, 68.75),\n",
        "    (38, 4, 4, \"2022-07-08\", 1625.00, 111250.00, 7125.00, 3, \"Soleado\", 79.25, 69.25),\n",
        "    (39, 4, 4, \"2022-07-09\", 1585.00, 109250.00, 6950.00, 0, \"Nublado\", 77.25, 67.25),\n",
        "    (40, 4, 4, \"2022-07-10\", 1575.00, 108750.00, 6925.00, 1, \"Soleado\", 76.75, 66.75),\n",
        "    (41, 5, 5, \"2023-02-01\", 1700.00, 130000.00, 7500.00, 4, \"Frío\", 82.00, 70.00),\n",
        "    (42, 5, 5, \"2023-02-02\", 1720.00, 131000.00, 7600.00, 3, \"Nublado\", 83.00, 71.00),\n",
        "    (43, 5, 5, \"2023-02-03\", 1680.00, 129000.00, 7400.00, 5, \"Frío\", 81.00, 69.00),\n",
        "    (44, 5, 5, \"2023-02-04\", 1710.00, 130500.00, 7550.00, 4, \"Soleado\", 82.50, 70.50),\n",
        "    (45, 5, 5, \"2023-02-05\", 1690.00, 129500.00, 7475.00, 3, \"Nublado\", 81.50, 69.50),\n",
        "    (46, 5, 5, \"2023-02-06\", 1705.00, 130250.00, 7525.00, 2, \"Frío\", 82.25, 70.25),\n",
        "    (47, 5, 5, \"2023-02-07\", 1715.00, 130750.00, 7575.00, 4, \"Nublado\", 82.75, 70.75),\n",
        "    (48, 5, 5, \"2023-02-08\", 1725.00, 131250.00, 7625.00, 5, \"Soleado\", 83.25, 71.25),\n",
        "    (49, 5, 5, \"2023-02-09\", 1685.00, 129250.00, 7450.00, 3, \"Frío\", 81.25, 69.25),\n",
        "    (50, 5, 5, \"2023-02-10\", 1675.00, 128750.00, 7425.00, 4, \"Nublado\", 80.75, 68.75)]\n",
        "\n",
        "stmt = \"INSERT INTO eficiencia_energetica VALUES(?, ?, ?, ?, ?, ?, ?, ?, ?, ?, ?)\"\n",
        "\n",
        "con.executemany(stmt, data)\n",
        "\n",
        "con.commit()"
      ],
      "metadata": {
        "id": "5j_70bvcf5VJ",
        "collapsed": true
      },
      "execution_count": 8,
      "outputs": []
    },
    {
      "cell_type": "code",
      "source": [
        "cursor = con.execute(\"SELECT * FROM eficiencia_energetica\")\n",
        "\n",
        "rows = cursor.fetchall()  ## El metodo FETCHALL retorna los valores de la consulta\n",
        "\n",
        "rows  ## Retorna una tupla"
      ],
      "metadata": {
        "colab": {
          "base_uri": "https://localhost:8080/"
        },
        "id": "AjQMbmDYgAfX",
        "outputId": "311d1b51-4d50-4446-f66f-f950ae537a2f",
        "collapsed": true
      },
      "execution_count": 9,
      "outputs": [
        {
          "output_type": "execute_result",
          "data": {
            "text/plain": [
              "[(1, 1, 3, '2022-01-01', 1500.0, 100000.0, 5000.0, 2, 'Soleado', 80.0, 70.0),\n",
              " (2, 1, 3, '2022-01-02', 1520.0, 101000.0, 5100.0, 1, 'Soleado', 81.0, 71.0),\n",
              " (3, 1, 3, '2022-01-03', 1480.0, 99000.0, 4900.0, 3, 'Nublado', 79.0, 69.0),\n",
              " (4, 1, 3, '2022-01-04', 1510.0, 100500.0, 5050.0, 2, 'Soleado', 80.5, 70.5),\n",
              " (5, 1, 3, '2022-01-05', 1490.0, 99500.0, 4975.0, 2, 'Nublado', 79.5, 69.5),\n",
              " (6, 1, 3, '2022-01-06', 1505.0, 100250.0, 5025.0, 1, 'Soleado', 80.25, 70.25),\n",
              " (7, 1, 3, '2022-01-07', 1515.0, 100750.0, 5075.0, 2, 'Nublado', 80.75, 70.75),\n",
              " (8, 1, 3, '2022-01-08', 1525.0, 101250.0, 5125.0, 3, 'Soleado', 81.25, 71.25),\n",
              " (9, 1, 3, '2022-01-09', 1485.0, 99250.0, 4950.0, 1, 'Nublado', 79.25, 69.25),\n",
              " (10, 1, 3, '2022-01-10', 1475.0, 98750.0, 4925.0, 2, 'Soleado', 78.75, 68.75),\n",
              " (11, 2, 2, '2021-06-01', 2000.0, 150000.0, 8000.0, 1, 'Ventoso', 85.0, 65.0),\n",
              " (12, 2, 2, '2021-06-02', 2020.0, 151000.0, 8100.0, 0, 'Ventoso', 86.0, 66.0),\n",
              " (13, 2, 2, '2021-06-03', 1980.0, 149000.0, 7900.0, 2, 'Lluvioso', 84.0, 64.0),\n",
              " (14, 2, 2, '2021-06-04', 2010.0, 150500.0, 8050.0, 1, 'Ventoso', 85.5, 65.5),\n",
              " (15, 2, 2, '2021-06-05', 1990.0, 149500.0, 7975.0, 1, 'Lluvioso', 84.5, 64.5),\n",
              " (16,\n",
              "  2,\n",
              "  2,\n",
              "  '2021-06-06',\n",
              "  2005.0,\n",
              "  150250.0,\n",
              "  8025.0,\n",
              "  0,\n",
              "  'Ventoso',\n",
              "  85.25,\n",
              "  65.25),\n",
              " (17,\n",
              "  2,\n",
              "  2,\n",
              "  '2021-06-07',\n",
              "  2015.0,\n",
              "  150750.0,\n",
              "  8075.0,\n",
              "  1,\n",
              "  'Ventoso',\n",
              "  85.75,\n",
              "  65.75),\n",
              " (18,\n",
              "  2,\n",
              "  2,\n",
              "  '2021-06-08',\n",
              "  2025.0,\n",
              "  151250.0,\n",
              "  8125.0,\n",
              "  2,\n",
              "  'Lluvioso',\n",
              "  86.25,\n",
              "  66.25),\n",
              " (19,\n",
              "  2,\n",
              "  2,\n",
              "  '2021-06-09',\n",
              "  1985.0,\n",
              "  149250.0,\n",
              "  7950.0,\n",
              "  0,\n",
              "  'Ventoso',\n",
              "  84.25,\n",
              "  64.25),\n",
              " (20,\n",
              "  2,\n",
              "  2,\n",
              "  '2021-06-10',\n",
              "  1975.0,\n",
              "  148750.0,\n",
              "  7925.0,\n",
              "  1,\n",
              "  'Ventoso',\n",
              "  83.75,\n",
              "  63.75),\n",
              " (21, 3, 1, '2023-04-01', 1800.0, 120000.0, 6000.0, 3, 'Lluvioso', 75.0, 72.0),\n",
              " (22, 3, 1, '2023-04-02', 1820.0, 121000.0, 6100.0, 2, 'Nublado', 76.0, 73.0),\n",
              " (23, 3, 1, '2023-04-03', 1780.0, 119000.0, 5900.0, 4, 'Lluvioso', 74.0, 71.0),\n",
              " (24, 3, 1, '2023-04-04', 1810.0, 120500.0, 6050.0, 3, 'Soleado', 75.5, 72.5),\n",
              " (25, 3, 1, '2023-04-05', 1790.0, 119500.0, 5975.0, 3, 'Lluvioso', 74.5, 71.5),\n",
              " (26,\n",
              "  3,\n",
              "  1,\n",
              "  '2023-04-06',\n",
              "  1805.0,\n",
              "  120250.0,\n",
              "  6025.0,\n",
              "  2,\n",
              "  'Nublado',\n",
              "  75.25,\n",
              "  72.25),\n",
              " (27,\n",
              "  3,\n",
              "  1,\n",
              "  '2023-04-07',\n",
              "  1815.0,\n",
              "  120750.0,\n",
              "  6075.0,\n",
              "  3,\n",
              "  'Lluvioso',\n",
              "  75.75,\n",
              "  72.75),\n",
              " (28,\n",
              "  3,\n",
              "  1,\n",
              "  '2023-04-08',\n",
              "  1825.0,\n",
              "  121250.0,\n",
              "  6125.0,\n",
              "  4,\n",
              "  'Soleado',\n",
              "  76.25,\n",
              "  73.25),\n",
              " (29,\n",
              "  3,\n",
              "  1,\n",
              "  '2023-04-09',\n",
              "  1785.0,\n",
              "  119250.0,\n",
              "  5950.0,\n",
              "  2,\n",
              "  'Lluvioso',\n",
              "  74.25,\n",
              "  71.25),\n",
              " (30,\n",
              "  3,\n",
              "  1,\n",
              "  '2023-04-10',\n",
              "  1775.0,\n",
              "  118750.0,\n",
              "  5925.0,\n",
              "  3,\n",
              "  'Nublado',\n",
              "  73.75,\n",
              "  70.75),\n",
              " (31, 4, 4, '2022-07-01', 1600.0, 110000.0, 7000.0, 0, 'Nublado', 78.0, 68.0),\n",
              " (32, 4, 4, '2022-07-02', 1620.0, 111000.0, 7100.0, 1, 'Soleado', 79.0, 69.0),\n",
              " (33, 4, 4, '2022-07-03', 1580.0, 109000.0, 6900.0, 2, 'Nublado', 77.0, 67.0),\n",
              " (34, 4, 4, '2022-07-04', 1610.0, 110500.0, 7050.0, 1, 'Soleado', 78.5, 68.5),\n",
              " (35, 4, 4, '2022-07-05', 1590.0, 109500.0, 6975.0, 0, 'Nublado', 77.5, 67.5),\n",
              " (36,\n",
              "  4,\n",
              "  4,\n",
              "  '2022-07-06',\n",
              "  1605.0,\n",
              "  110250.0,\n",
              "  7025.0,\n",
              "  1,\n",
              "  'Soleado',\n",
              "  78.25,\n",
              "  68.25),\n",
              " (37,\n",
              "  4,\n",
              "  4,\n",
              "  '2022-07-07',\n",
              "  1615.0,\n",
              "  110750.0,\n",
              "  7075.0,\n",
              "  2,\n",
              "  'Nublado',\n",
              "  78.75,\n",
              "  68.75),\n",
              " (38,\n",
              "  4,\n",
              "  4,\n",
              "  '2022-07-08',\n",
              "  1625.0,\n",
              "  111250.0,\n",
              "  7125.0,\n",
              "  3,\n",
              "  'Soleado',\n",
              "  79.25,\n",
              "  69.25),\n",
              " (39,\n",
              "  4,\n",
              "  4,\n",
              "  '2022-07-09',\n",
              "  1585.0,\n",
              "  109250.0,\n",
              "  6950.0,\n",
              "  0,\n",
              "  'Nublado',\n",
              "  77.25,\n",
              "  67.25),\n",
              " (40,\n",
              "  4,\n",
              "  4,\n",
              "  '2022-07-10',\n",
              "  1575.0,\n",
              "  108750.0,\n",
              "  6925.0,\n",
              "  1,\n",
              "  'Soleado',\n",
              "  76.75,\n",
              "  66.75),\n",
              " (41, 5, 5, '2023-02-01', 1700.0, 130000.0, 7500.0, 4, 'Frío', 82.0, 70.0),\n",
              " (42, 5, 5, '2023-02-02', 1720.0, 131000.0, 7600.0, 3, 'Nublado', 83.0, 71.0),\n",
              " (43, 5, 5, '2023-02-03', 1680.0, 129000.0, 7400.0, 5, 'Frío', 81.0, 69.0),\n",
              " (44, 5, 5, '2023-02-04', 1710.0, 130500.0, 7550.0, 4, 'Soleado', 82.5, 70.5),\n",
              " (45, 5, 5, '2023-02-05', 1690.0, 129500.0, 7475.0, 3, 'Nublado', 81.5, 69.5),\n",
              " (46, 5, 5, '2023-02-06', 1705.0, 130250.0, 7525.0, 2, 'Frío', 82.25, 70.25),\n",
              " (47,\n",
              "  5,\n",
              "  5,\n",
              "  '2023-02-07',\n",
              "  1715.0,\n",
              "  130750.0,\n",
              "  7575.0,\n",
              "  4,\n",
              "  'Nublado',\n",
              "  82.75,\n",
              "  70.75),\n",
              " (48,\n",
              "  5,\n",
              "  5,\n",
              "  '2023-02-08',\n",
              "  1725.0,\n",
              "  131250.0,\n",
              "  7625.0,\n",
              "  5,\n",
              "  'Soleado',\n",
              "  83.25,\n",
              "  71.25),\n",
              " (49, 5, 5, '2023-02-09', 1685.0, 129250.0, 7450.0, 3, 'Frío', 81.25, 69.25),\n",
              " (50,\n",
              "  5,\n",
              "  5,\n",
              "  '2023-02-10',\n",
              "  1675.0,\n",
              "  128750.0,\n",
              "  7425.0,\n",
              "  4,\n",
              "  'Nublado',\n",
              "  80.75,\n",
              "  68.75)]"
            ]
          },
          "metadata": {},
          "execution_count": 9
        }
      ]
    },
    {
      "cell_type": "code",
      "source": [
        "cursor = con.execute(\"SELECT * FROM comunidades_energeticas\")\n",
        "\n",
        "rows = cursor.fetchall()\n",
        "\n",
        "rows  ## Retorna una tupla"
      ],
      "metadata": {
        "colab": {
          "base_uri": "https://localhost:8080/"
        },
        "id": "5UE0X5kthN5n",
        "outputId": "07d51e2d-1bc0-4cd8-f3ea-a7866470dacd",
        "collapsed": true
      },
      "execution_count": 10,
      "outputs": [
        {
          "output_type": "execute_result",
          "data": {
            "text/plain": [
              "[(1,\n",
              "  'Comunidad Solar Andes',\n",
              "  'Comunidad que utiliza energía solar',\n",
              "  'Andes',\n",
              "  1),\n",
              " (2,\n",
              "  'Comunidad Eólica La Guajira',\n",
              "  'Comunidad que utiliza energía eólica',\n",
              "  'La Guajira',\n",
              "  2),\n",
              " (3,\n",
              "  'Comunidad Biomasa Cauca',\n",
              "  'Comunidad que utiliza energía de biomasa',\n",
              "  'Cauca',\n",
              "  4),\n",
              " (4,\n",
              "  'Comunidad Geotérmica Nariño',\n",
              "  'Comunidad que utiliza energía geotérmica',\n",
              "  'Nariño',\n",
              "  5)]"
            ]
          },
          "metadata": {},
          "execution_count": 10
        }
      ]
    },
    {
      "cell_type": "code",
      "source": [
        "## Creamos una tabla para alojar las empresas desarrolladoras de proyectos\n",
        "query = \"\"\"\n",
        "    CREATE TABLE empresas (\n",
        "        id_empresa INTEGER PRIMARY KEY AUTOINCREMENT,\n",
        "        nombre TEXT DEFAULT NULL,\n",
        "        industria TEXT DEFAULT NULL,\n",
        "        proyecto_id INTEGER,\n",
        "        FOREIGN KEY (proyecto_id) REFERENCES proyectos(id_proyecto)\n",
        "        )\n",
        "        \"\"\"\n",
        "cursor = con.execute(query)"
      ],
      "metadata": {
        "id": "nL38udjrg4v7"
      },
      "execution_count": 11,
      "outputs": []
    },
    {
      "cell_type": "code",
      "source": [
        "## Ingresamos los datos FICTICIOS de las empresas\n",
        "data = [\n",
        "    (1, 'SolarTech', 'Energía Solar', 1),\n",
        "    (2, 'WindPower', 'Energía Eólica', 2),\n",
        "    (3, 'GreenH2', 'Hidrógeno Verde', 3),\n",
        "    (4, 'BioEnergy', 'Biomasa', 4),\n",
        "    (5, 'GeoEnergy', 'Geotermia', 5)\n",
        "        ]\n",
        "\n",
        "stmt = \"INSERT INTO empresas VALUES(?, ?, ?, ?)\"\n",
        "\n",
        "con.executemany(stmt, data)\n",
        "\n",
        "con.commit()"
      ],
      "metadata": {
        "id": "3_WhwgOQzptO"
      },
      "execution_count": 12,
      "outputs": []
    },
    {
      "cell_type": "code",
      "source": [
        "## Creamos tabla asociada a estudios sobre energias renovables\n",
        "query = \"\"\"\n",
        "  CREATE TABLE estudios (\n",
        "    id_estudio INTEGER PRIMARY KEY AUTOINCREMENT,\n",
        "    nombre TEXT NOT NULL,\n",
        "    descripcion TEXT DEFAULT NULL,\n",
        "    fecha DATE DEFAULT NULL,\n",
        "    proyecto_id INTEGER,\n",
        "    FOREIGN KEY (proyecto_id) REFERENCES proyectos(id_proyecto)\n",
        ")\"\"\"\n",
        "\n",
        "cursor = con.execute(query)"
      ],
      "metadata": {
        "id": "DgJmbwfZ0LCV"
      },
      "execution_count": 13,
      "outputs": []
    },
    {
      "cell_type": "code",
      "source": [
        "data = [\n",
        "        (1, 'Estudio de Viabilidad Solar', 'Análisis de viabilidad para la planta solar en Andes', '2021-12-01', 1),\n",
        "        (2, 'Impacto Ambiental Eólico', 'Evaluación del impacto ambiental del parque eólico en La Guajira', '2020-11-01', 2),\n",
        "        (3, 'Producción de Hidrógeno', 'Estudio de métodos de producción de hidrógeno verde', '2022-05-01', 3),\n",
        "        (4, 'Biomasa y Sostenibilidad', 'Análisis de sostenibilidad de la planta de biomasa en Cauca', '2021-09-01', 4),\n",
        "        (5, 'Eficiencia Geotérmica', 'Estudio de eficiencia de la planta geotérmica en Nariño', '2023-03-01', 5)\n",
        "      ]\n",
        "\n",
        "stmt = \"INSERT INTO estudios VALUES(?, ?, ?, ?, ?)\"\n",
        "\n",
        "con.executemany(stmt, data)\n",
        "\n",
        "con.commit()"
      ],
      "metadata": {
        "id": "5iSh7lVQ1bmJ"
      },
      "execution_count": 14,
      "outputs": []
    },
    {
      "cell_type": "code",
      "source": [
        "## Creamos tabla de inversiones en energias renovables\n",
        "query = \"\"\"\n",
        "CREATE TABLE inversiones (\n",
        "  id_inversion INTEGER PRIMARY KEY AUTOINCREMENT,\n",
        "  proyecto_id INTEGER,\n",
        "  monto REAL DEFAULT NULL,\n",
        "  fuente TEXT DEFAULT NULL,\n",
        "  fecha DATE DEFAULT NULL,\n",
        "  FOREIGN KEY (proyecto_id) REFERENCES proyectos(id_proyecto)\n",
        ")\"\"\"\n",
        "\n",
        "cursor = con.execute(query)"
      ],
      "metadata": {
        "id": "Cz_EKYOa1o9f"
      },
      "execution_count": 15,
      "outputs": []
    },
    {
      "cell_type": "code",
      "source": [
        "data = [\n",
        "    (1, 1, 1000000.00, 'Gobierno', '2022-01-01'),\n",
        "    (2, 2, 5000000.00, 'Privado', '2021-06-01'),\n",
        "    (3, 3, 2000000.00, 'Gobierno', '2023-04-01'),\n",
        "    (4, 4, 1500000.00, 'ONG', '2022-07-01'),\n",
        "    (5, 5, 3000000.00, 'Privado', '2023-02-01')\n",
        "    ]\n",
        "\n",
        "stmt = \"INSERT INTO inversiones VALUES(?, ?, ?, ?, ?)\"\n",
        "\n",
        "con.executemany(stmt, data)\n",
        "\n",
        "con.commit()"
      ],
      "metadata": {
        "id": "ntrFRydg1z95"
      },
      "execution_count": 16,
      "outputs": []
    },
    {
      "cell_type": "code",
      "source": [
        "## Creo tabla para investigadores en energias renovables\n",
        "query = \"\"\"\n",
        "    CREATE TABLE investigadores (\n",
        "      id_investigador INTEGER PRIMARY KEY AUTOINCREMENT,\n",
        "      nombre TEXT DEFAULT NULL,\n",
        "      apellido TEXT DEFAULT NULL,\n",
        "      especialidad TEXT DEFAULT NULL,\n",
        "      proyecto_id INTEGER,\n",
        "      FOREIGN KEY (proyecto_id) REFERENCES proyectos(id_proyecto)\n",
        ")\"\"\"\n",
        "\n",
        "cursor = con.execute(query)"
      ],
      "metadata": {
        "id": "oCj3UJTj1-Vv"
      },
      "execution_count": 17,
      "outputs": []
    },
    {
      "cell_type": "code",
      "source": [
        "data = [\n",
        "    (1, 'Juan', 'Pérez', 'Energía Solar', 1),\n",
        "    (2, 'Ana', 'Gómez', 'Energía Eólica', 2),\n",
        "    (3, 'Luis', 'Martínez', 'Hidrógeno Verde', 3),\n",
        "    (4, 'María', 'Rodríguez', 'Biomasa', 4),\n",
        "    (5, 'Carlos', 'López', 'Geotermia', 5)\n",
        "  ]\n",
        "\n",
        "stmt = \"INSERT INTO investigadores VALUES(?, ?, ?, ?, ?)\"\n",
        "\n",
        "con.executemany(stmt, data)\n",
        "\n",
        "con.commit()"
      ],
      "metadata": {
        "id": "eT0MVP0Z2LD_"
      },
      "execution_count": 18,
      "outputs": []
    },
    {
      "cell_type": "code",
      "source": [
        "## Crear tabla de minerales para produccion de productos enfocados a energias renovables\n",
        "query = \"\"\"\n",
        "  CREATE TABLE minerales (\n",
        "    id_mineral INTEGER PRIMARY KEY AUTOINCREMENT,\n",
        "    nombre TEXT NOT NULL,\n",
        "    descripcion TEXT DEFAULT NULL,\n",
        "    ubicacion TEXT DEFAULT NULL,\n",
        "    proyecto_asociado INTEGER,\n",
        "    FOREIGN KEY (proyecto_asociado) REFERENCES proyectos(id_proyecto)\n",
        ")\"\"\"\n",
        "\n",
        "cursor = con.execute(query)"
      ],
      "metadata": {
        "id": "8ZPS8nxs3kBK"
      },
      "execution_count": 19,
      "outputs": []
    },
    {
      "cell_type": "code",
      "source": [
        "data = [\n",
        "        (1, 'Litio', 'Mineral estratégico para baterías', 'Cauca', 1),\n",
        "        (2, 'Cobalto', 'Mineral estratégico para componentes electrónicos', 'Boyacá', 2),\n",
        "        (3, 'Níquel', 'Mineral estratégico para aleaciones metálicas', 'Antioquia', 3),\n",
        "        (4, 'Cobre', 'Mineral estratégico para conductividad eléctrica', 'Chocó', 4),\n",
        "        (5, 'Uranio', 'Mineral estratégico para energía nuclear', 'Guainía', 5)\n",
        "        ]\n",
        "\n",
        "stmt = \"INSERT INTO minerales VALUES(?, ?, ?, ?, ?)\"\n",
        "\n",
        "con.executemany(stmt, data)\n",
        "\n",
        "con.commit()"
      ],
      "metadata": {
        "id": "qgCn1PU83xM4"
      },
      "execution_count": 20,
      "outputs": []
    },
    {
      "cell_type": "code",
      "source": [
        "## Creacion de tabla proyectos\n",
        "query = \"\"\"\n",
        "    CREATE TABLE proyectos (\n",
        "      id_proyecto INTEGER PRIMARY KEY AUTOINCREMENT,\n",
        "      nombre TEXT NOT NULL,\n",
        "      descripcion TEXT DEFAULT NULL,\n",
        "      tipo_energia INTEGER,\n",
        "      ubicacion TEXT DEFAULT NULL,\n",
        "      fecha_inicio DATE DEFAULT NULL,\n",
        "      fecha_fin DATE DEFAULT NULL,\n",
        "      FOREIGN KEY (tipo_energia) REFERENCES tipos_energia(id_tipo)\n",
        "      )\"\"\"\n",
        "\n",
        "cursor = con.execute(query)"
      ],
      "metadata": {
        "id": "SnL5JgqO4KKZ"
      },
      "execution_count": 21,
      "outputs": []
    },
    {
      "cell_type": "code",
      "source": [
        "data = [\n",
        "    (1, 'Proyecto Solar Andes', 'Desarrollo de una planta de energía solar', 3, 'Andes', '2022-01-01', '2023-01-01'),\n",
        "    (2, 'Parque Eólico La Guajira', 'Generación de energía eólica', 2, 'La Guajira', '2021-05-01', '2022-12-01'),\n",
        "    (3, 'Planta Hidrógeno Verde', 'Producción de hidrógeno verde', 1, 'Cartagena', '2023-03-01', '2024-03-01'),\n",
        "    (4, 'Proyecto Biomasa Cauca', 'Generación de energía a partir de biomasa', 4, 'Cauca', '2022-06-01', '2023-06-01'),\n",
        "    (5, 'Planta Geotérmica Nariño', 'Producción de energía geotérmica', 5, 'Nariño', '2023-01-01', '2024-01-01')\n",
        "    ]\n",
        "\n",
        "stmt = \"INSERT INTO proyectos VALUES(?, ?, ?, ?, ?, ?, ?)\"\n",
        "\n",
        "con.executemany(stmt, data)\n",
        "\n",
        "con.commit()"
      ],
      "metadata": {
        "id": "I4SWG4Oe4aRb"
      },
      "execution_count": 22,
      "outputs": []
    },
    {
      "cell_type": "code",
      "source": [
        "query = \"\"\"\n",
        "  CREATE TABLE tipos_energia (\n",
        "    id_tipo INTEGER PRIMARY KEY AUTOINCREMENT,\n",
        "    tipo TEXT NOT NULL\n",
        "  )\"\"\"\n",
        "\n",
        "cursor = con.execute(query)"
      ],
      "metadata": {
        "id": "uJQJXzKz4nW9"
      },
      "execution_count": 23,
      "outputs": []
    },
    {
      "cell_type": "code",
      "source": [
        "data = [\n",
        "    (1, 'Hidrógeno Verde'),\n",
        "    (2, 'Eólica'),\n",
        "    (3, 'Solar'),\n",
        "    (4, 'Biomasa'),\n",
        "    (5, 'Geotérmica')\n",
        "]"
      ],
      "metadata": {
        "id": "ch2Dzwtv4w95"
      },
      "execution_count": 24,
      "outputs": []
    },
    {
      "cell_type": "code",
      "source": [
        "stmt = \"INSERT INTO tipos_energia VALUES(?, ?)\"\n",
        "\n",
        "con.executemany(stmt, data)\n",
        "\n",
        "con.commit()"
      ],
      "metadata": {
        "id": "g7GU3y_PyatC"
      },
      "execution_count": 25,
      "outputs": []
    },
    {
      "cell_type": "code",
      "source": [
        "cursor = con.execute(\"SELECT * FROM sqlite_master WHERE type='table'\")\n",
        "\n",
        "rows = cursor.fetchall()  ## El metodo FETCHALL retorna los valores de la consulta\n",
        "\n",
        "rows  ## Retorna una tupla"
      ],
      "metadata": {
        "colab": {
          "base_uri": "https://localhost:8080/"
        },
        "collapsed": true,
        "id": "AMj9yK6N5Dl9",
        "outputId": "0731f866-1e51-48d1-c765-ec29c9f09e15"
      },
      "execution_count": 26,
      "outputs": [
        {
          "output_type": "execute_result",
          "data": {
            "text/plain": [
              "[('table',\n",
              "  'comunidades_energeticas',\n",
              "  'comunidades_energeticas',\n",
              "  2,\n",
              "  'CREATE TABLE comunidades_energeticas (\\n  id_comunidad INTEGER PRIMARY KEY AUTOINCREMENT,\\n  nombre TEXT NOT NULL,\\n  descripcion TEXT DEFAULT NULL,\\n  ubicacion TEXT DEFAULT NULL,\\n  proyecto_asociado INTEGER,\\n  FOREIGN KEY (proyecto_asociado) REFERENCES proyectos(id_proyecto)\\n)'),\n",
              " ('table',\n",
              "  'sqlite_sequence',\n",
              "  'sqlite_sequence',\n",
              "  3,\n",
              "  'CREATE TABLE sqlite_sequence(name,seq)'),\n",
              " ('table',\n",
              "  'eficiencia_energetica',\n",
              "  'eficiencia_energetica',\n",
              "  4,\n",
              "  'CREATE TABLE eficiencia_energetica (\\n  id_eficiencia INTEGER PRIMARY KEY AUTOINCREMENT,\\n  proyecto_id INTEGER,\\n  tipo_energia_id INTEGER,\\n  fecha DATE DEFAULT NULL,\\n  kw_h_generado REAL DEFAULT NULL,\\n  costo_produccion REAL DEFAULT NULL,\\n  costo_comercializacion REAL DEFAULT NULL,\\n  tiempos_muertos INTEGER DEFAULT NULL,\\n  clima TEXT DEFAULT NULL,\\n  indicador_economico REAL DEFAULT NULL,\\n  indicador_sociodemografico REAL DEFAULT NULL,\\n  FOREIGN KEY (proyecto_id) REFERENCES proyectos(id_proyecto),\\n  FOREIGN KEY (tipo_energia_id) REFERENCES tipos_energia(id_tipo)\\n)'),\n",
              " ('table',\n",
              "  'empresas',\n",
              "  'empresas',\n",
              "  5,\n",
              "  'CREATE TABLE empresas (\\n        id_empresa INTEGER PRIMARY KEY AUTOINCREMENT,\\n        nombre TEXT DEFAULT NULL,\\n        industria TEXT DEFAULT NULL,\\n        proyecto_id INTEGER,\\n        FOREIGN KEY (proyecto_id) REFERENCES proyectos(id_proyecto)\\n        )'),\n",
              " ('table',\n",
              "  'estudios',\n",
              "  'estudios',\n",
              "  6,\n",
              "  'CREATE TABLE estudios (\\n    id_estudio INTEGER PRIMARY KEY AUTOINCREMENT,\\n    nombre TEXT NOT NULL,\\n    descripcion TEXT DEFAULT NULL,\\n    fecha DATE DEFAULT NULL,\\n    proyecto_id INTEGER,\\n    FOREIGN KEY (proyecto_id) REFERENCES proyectos(id_proyecto)\\n)'),\n",
              " ('table',\n",
              "  'inversiones',\n",
              "  'inversiones',\n",
              "  7,\n",
              "  'CREATE TABLE inversiones (\\n  id_inversion INTEGER PRIMARY KEY AUTOINCREMENT,\\n  proyecto_id INTEGER,\\n  monto REAL DEFAULT NULL,\\n  fuente TEXT DEFAULT NULL,\\n  fecha DATE DEFAULT NULL,\\n  FOREIGN KEY (proyecto_id) REFERENCES proyectos(id_proyecto)\\n)'),\n",
              " ('table',\n",
              "  'investigadores',\n",
              "  'investigadores',\n",
              "  8,\n",
              "  'CREATE TABLE investigadores (\\n      id_investigador INTEGER PRIMARY KEY AUTOINCREMENT,\\n      nombre TEXT DEFAULT NULL,\\n      apellido TEXT DEFAULT NULL,\\n      especialidad TEXT DEFAULT NULL,\\n      proyecto_id INTEGER,\\n      FOREIGN KEY (proyecto_id) REFERENCES proyectos(id_proyecto)\\n)'),\n",
              " ('table',\n",
              "  'minerales',\n",
              "  'minerales',\n",
              "  9,\n",
              "  'CREATE TABLE minerales (\\n    id_mineral INTEGER PRIMARY KEY AUTOINCREMENT,\\n    nombre TEXT NOT NULL,\\n    descripcion TEXT DEFAULT NULL,\\n    ubicacion TEXT DEFAULT NULL,\\n    proyecto_asociado INTEGER,\\n    FOREIGN KEY (proyecto_asociado) REFERENCES proyectos(id_proyecto)\\n)'),\n",
              " ('table',\n",
              "  'proyectos',\n",
              "  'proyectos',\n",
              "  10,\n",
              "  'CREATE TABLE proyectos (\\n      id_proyecto INTEGER PRIMARY KEY AUTOINCREMENT,\\n      nombre TEXT NOT NULL,\\n      descripcion TEXT DEFAULT NULL,\\n      tipo_energia INTEGER,\\n      ubicacion TEXT DEFAULT NULL,\\n      fecha_inicio DATE DEFAULT NULL,\\n      fecha_fin DATE DEFAULT NULL,\\n      FOREIGN KEY (tipo_energia) REFERENCES tipos_energia(id_tipo)\\n      )'),\n",
              " ('table',\n",
              "  'tipos_energia',\n",
              "  'tipos_energia',\n",
              "  11,\n",
              "  'CREATE TABLE tipos_energia (\\n    id_tipo INTEGER PRIMARY KEY AUTOINCREMENT,\\n    tipo TEXT NOT NULL\\n  )')]"
            ]
          },
          "metadata": {},
          "execution_count": 26
        }
      ]
    },
    {
      "cell_type": "markdown",
      "source": [
        "**Subconsulta en la cláusula WHERE**"
      ],
      "metadata": {
        "id": "4E5lnFry6S-3"
      }
    },
    {
      "cell_type": "code",
      "source": [
        "## Utilizadas para filtrar resultados basados en los resultados de otra consulta\n",
        "cursor = con.execute(\"\"\"\n",
        "                      SELECT nombre, ubicacion\n",
        "                      FROM proyectos\n",
        "                      WHERE id_proyecto IN (SELECT proyecto_id FROM inversiones WHERE monto > 2000000)\n",
        "                      \"\"\")\n",
        "\n",
        "rows = cursor.fetchall()  ## El metodo FETCHALL retorna los valores de la consulta\n",
        "\n",
        "rows  ## Retorna una tupla"
      ],
      "metadata": {
        "colab": {
          "base_uri": "https://localhost:8080/"
        },
        "id": "QN5IbRCr5IEo",
        "outputId": "1b333e34-5b9f-4d03-b542-b376a5bf8428"
      },
      "execution_count": 27,
      "outputs": [
        {
          "output_type": "execute_result",
          "data": {
            "text/plain": [
              "[('Parque Eólico La Guajira', 'La Guajira'),\n",
              " ('Planta Geotérmica Nariño', 'Nariño')]"
            ]
          },
          "metadata": {},
          "execution_count": 27
        }
      ]
    },
    {
      "cell_type": "markdown",
      "source": [
        "**Subconsulta en la cláusula FROM**"
      ],
      "metadata": {
        "id": "bB8Ht4L66qvc"
      }
    },
    {
      "cell_type": "code",
      "source": [
        "cursor = con.execute(\"\"\"\n",
        "                  SELECT sub.nombre, sub.total_inversion\n",
        "                  FROM (SELECT p.nombre, SUM(i.monto) AS total_inversion\n",
        "                  FROM proyectos p\n",
        "                  JOIN inversiones i ON p.id_proyecto = i.proyecto_id\n",
        "                  GROUP BY p.nombre) sub\n",
        "                  WHERE sub.total_inversion > 2000000;\n",
        "                      \"\"\")\n",
        "\n",
        "rows = cursor.fetchall()  ## El metodo FETCHALL retorna los valores de la consulta\n",
        "\n",
        "rows  ## Retorna una tupla"
      ],
      "metadata": {
        "colab": {
          "base_uri": "https://localhost:8080/"
        },
        "id": "lavZKDEN6lWl",
        "outputId": "450a9b54-65dc-4207-a60a-586af2e13188"
      },
      "execution_count": 28,
      "outputs": [
        {
          "output_type": "execute_result",
          "data": {
            "text/plain": [
              "[('Parque Eólico La Guajira', 5000000.0),\n",
              " ('Planta Geotérmica Nariño', 3000000.0)]"
            ]
          },
          "metadata": {},
          "execution_count": 28
        }
      ]
    },
    {
      "cell_type": "code",
      "source": [
        "## Primero se analiza la subconsulta\n",
        "\"\"\"\n",
        "        SELECT p.nombre, SUM(i.monto) AS total_inversion\n",
        "        FROM proyectos p\n",
        "        JOIN inversiones i ON p.id_proyecto = i.proyecto_id\n",
        "        GROUP BY p.nombre\n",
        "\"\"\""
      ],
      "metadata": {
        "colab": {
          "base_uri": "https://localhost:8080/",
          "height": 54
        },
        "collapsed": true,
        "id": "FWdOwpWM5ddO",
        "outputId": "3762c478-a155-47bc-ca2a-c6fa2771b460"
      },
      "execution_count": 29,
      "outputs": [
        {
          "output_type": "execute_result",
          "data": {
            "text/plain": [
              "'\\n        SELECT p.nombre, SUM(i.monto) AS total_inversion\\n        FROM proyectos p\\n        JOIN inversiones i ON p.id_proyecto = i.proyecto_id\\n        GROUP BY p.nombre\\n'"
            ],
            "application/vnd.google.colaboratory.intrinsic+json": {
              "type": "string"
            }
          },
          "metadata": {},
          "execution_count": 29
        }
      ]
    },
    {
      "cell_type": "code",
      "source": [
        "## Dentro de la subconsulta\n",
        "\"\"\" 1.\n",
        "    Se crean varios alias:\n",
        "    proyectos se designa p\n",
        "    inversiones se designa como i\n",
        "    Y toda la subconsulta se denomina sub\n",
        "\n",
        "    2.\n",
        "    Se realiza la union con JOIN de las tablas proyectos e inversiones usando el campo id_proyecto\n",
        "\n",
        "    3.\n",
        "    SUM(i.monto) Se calcula la suma de los montos de las inversiones (i.monto) para cada proyecto.\n",
        "\n",
        "    4.\n",
        "    GROUP BY p.nombre: Se agrupan los resultados por el nombre del proyecto, lo que permite calcular\n",
        "    la suma de las inversiones para cada proyecto individualmente.\n",
        "\n",
        "    La subconsulta devuelve una tabla temporal con dos columnas: nombre (nombre del proyecto) y\n",
        "    total_inversion (suma total de las inversiones para ese proyecto).\n",
        "\n",
        "\"\"\"\n",
        "\n"
      ],
      "metadata": {
        "colab": {
          "base_uri": "https://localhost:8080/",
          "height": 109
        },
        "collapsed": true,
        "id": "B49Uzv12538t",
        "outputId": "763fab61-a66a-464c-9089-9cbc29ede8c0"
      },
      "execution_count": 30,
      "outputs": [
        {
          "output_type": "execute_result",
          "data": {
            "text/plain": [
              "' 1.\\n    Se crean varios alias:\\n    proyectos se designa p\\n    inversiones se designa como i\\n    Y toda la subconsulta se denomina sub\\n\\n    2.\\n    Se realiza la union con JOIN de las tablas proyectos e inversiones usando el campo id_proyecto\\n\\n    3.\\n    SUM(i.monto) Se calcula la suma de los montos de las inversiones (i.monto) para cada proyecto.\\n\\n    4.\\n    GROUP BY p.nombre: Se agrupan los resultados por el nombre del proyecto, lo que permite calcular\\n    la suma de las inversiones para cada proyecto individualmente.\\n\\n    La subconsulta devuelve una tabla temporal con dos columnas: nombre (nombre del proyecto) y\\n    total_inversion (suma total de las inversiones para ese proyecto).\\n\\n'"
            ],
            "application/vnd.google.colaboratory.intrinsic+json": {
              "type": "string"
            }
          },
          "metadata": {},
          "execution_count": 30
        }
      ]
    },
    {
      "cell_type": "code",
      "source": [
        "## Consulta principal\n",
        "\"\"\"\n",
        "        SELECT sub.nombre, sub.total_inversion\n",
        "        FROM (subconsulta)\n",
        "        WHERE sub.total_inversion > 2000000;\n",
        "\"\"\"\n",
        "\n",
        "\"\"\"\n",
        "      Una vez es realizada la subconsulta, se procede a:\n",
        "\n",
        "      1.\n",
        "      Dado que sub, es el alias que se le da a la tabla temporal generada por la subconsulta\n",
        "      SELECT sub.nombre, sub.total_inversion: Se seleccionan las columnas nombre y total_inversion de la tabla temporal sub.\n",
        "\n",
        "      2.\n",
        "      WHERE sub.total_inversion > 2000000: Se filtra la tabla temporal para incluir solo aquellos registros donde el\n",
        "      total_inversion sea mayor a 2,000,000.\n",
        "\"\"\""
      ],
      "metadata": {
        "colab": {
          "base_uri": "https://localhost:8080/",
          "height": 90
        },
        "collapsed": true,
        "id": "zs2QA9UX5rFX",
        "outputId": "39b7bf03-c14b-4f00-cefa-0e8c459bdc61"
      },
      "execution_count": null,
      "outputs": [
        {
          "output_type": "execute_result",
          "data": {
            "text/plain": [
              "'\\n      Una vez es realizada la subconsulta, se procede a:\\n         \\n      1.\\n      Dado que sub, es el alias que se le da a la tabla temporal generada por la subconsulta\\n      SELECT sub.nombre, sub.total_inversion: Se seleccionan las columnas nombre y total_inversion de la tabla temporal sub.\\n\\n      2.\\n      WHERE sub.total_inversion > 2000000: Se filtra la tabla temporal para incluir solo aquellos registros donde el\\n      total_inversion sea mayor a 2,000,000.\\n'"
            ],
            "application/vnd.google.colaboratory.intrinsic+json": {
              "type": "string"
            }
          },
          "metadata": {},
          "execution_count": 31
        }
      ]
    },
    {
      "cell_type": "markdown",
      "source": [
        "**Subconsulta en la cláusula SELECT**"
      ],
      "metadata": {
        "id": "kDqfxBhf66EK"
      }
    },
    {
      "cell_type": "code",
      "source": [
        "cursor = con.execute(\"\"\"\n",
        "                    SELECT nombre,\n",
        "                    (SELECT AVG(kw_h_generado)\n",
        "                    FROM eficiencia_energetica e\n",
        "                    WHERE e.proyecto_id = p.id_proyecto) AS promedio_kw_h\n",
        "                    FROM proyectos p;\n",
        "                      \"\"\")\n",
        "\n",
        "rows = cursor.fetchall()  ## El metodo FETCHALL retorna los valores de la consulta\n",
        "rows  ## Retorna una tupla"
      ],
      "metadata": {
        "colab": {
          "base_uri": "https://localhost:8080/"
        },
        "id": "jPt6KjX6691u",
        "outputId": "7592617a-6153-413e-f3e1-709ce18bf4d4"
      },
      "execution_count": 31,
      "outputs": [
        {
          "output_type": "execute_result",
          "data": {
            "text/plain": [
              "[('Proyecto Solar Andes', 1500.5),\n",
              " ('Parque Eólico La Guajira', 2000.5),\n",
              " ('Planta Hidrógeno Verde', 1800.5),\n",
              " ('Proyecto Biomasa Cauca', 1600.5),\n",
              " ('Planta Geotérmica Nariño', 1700.5)]"
            ]
          },
          "metadata": {},
          "execution_count": 31
        }
      ]
    },
    {
      "cell_type": "code",
      "source": [
        "\"\"\"   Subconsulta:\n",
        "        SELECT AVG(kw_h_generado)\n",
        "        FROM eficiencia_energetica e\n",
        "        WHERE e.proyecto_id = p.id_proyecto\n",
        "\"\"\""
      ],
      "metadata": {
        "id": "LEQVagI8A2SP"
      },
      "execution_count": null,
      "outputs": []
    },
    {
      "cell_type": "code",
      "source": [
        "\"\"\"   Consulta principal:\n",
        "         SELECT nombre,\n",
        "         (promedio_kw_h)\n",
        "         FROM proyectos p;\n",
        "         \"\"\""
      ],
      "metadata": {
        "id": "eUTvdH4rBHwS"
      },
      "execution_count": null,
      "outputs": []
    },
    {
      "cell_type": "markdown",
      "source": [
        "**Función CASE** <br> La función CASE permite realizar condiciones en una consulta, similar a una estructura IF-ELSE en otros lenguajes de programación."
      ],
      "metadata": {
        "id": "MhXMnLX47HOe"
      }
    },
    {
      "cell_type": "code",
      "source": [
        "cursor = con.execute(\"\"\"\n",
        "                      SELECT nombre,\n",
        "                         CASE\n",
        "                           WHEN tipo_energia = 1 THEN 'Hidrógeno Verde'\n",
        "                           WHEN tipo_energia = 2 THEN 'Eólica'\n",
        "                           WHEN tipo_energia = 3 THEN 'Solar'\n",
        "                           WHEN tipo_energia = 4 THEN 'Biomasa'\n",
        "                           WHEN tipo_energia = 5 THEN 'Geotérmica'\n",
        "                           ELSE 'Otro'\n",
        "                         END AS tipo_energia\n",
        "                      FROM proyectos;\n",
        "                      \"\"\")\n",
        "rows = cursor.fetchall()  ## El metodo FETCHALL retorna los valores de la consulta\n",
        "rows  ## Retorna una tupla"
      ],
      "metadata": {
        "colab": {
          "base_uri": "https://localhost:8080/"
        },
        "id": "q1lAxLYk7GRF",
        "outputId": "9dc33709-6c56-4be4-a024-c1c53093e26f"
      },
      "execution_count": 32,
      "outputs": [
        {
          "output_type": "execute_result",
          "data": {
            "text/plain": [
              "[('Proyecto Solar Andes', 'Solar'),\n",
              " ('Parque Eólico La Guajira', 'Eólica'),\n",
              " ('Planta Hidrógeno Verde', 'Hidrógeno Verde'),\n",
              " ('Proyecto Biomasa Cauca', 'Biomasa'),\n",
              " ('Planta Geotérmica Nariño', 'Geotérmica')]"
            ]
          },
          "metadata": {},
          "execution_count": 32
        }
      ]
    },
    {
      "cell_type": "markdown",
      "source": [
        "**Función COALESCE** <br> La función COALESCE devuelve el primer valor no nulo de una lista de argumentos. Es útil para manejar valores nulos en los datos."
      ],
      "metadata": {
        "id": "X7imJBad7rNe"
      }
    },
    {
      "cell_type": "code",
      "source": [
        "## Si todos los valores son nulos, retorna NULL\n",
        "cursor = con.execute(\"\"\"\n",
        "                    SELECT nombre, COALESCE(descripcion, 'No disponible') AS descripcion\n",
        "                    FROM estudios;\n",
        "                      \"\"\")\n",
        "\n",
        "rows = cursor.fetchall()  ## El metodo FETCHALL retorna los valores de la consulta\n",
        "rows  ## Retorna una tupla"
      ],
      "metadata": {
        "colab": {
          "base_uri": "https://localhost:8080/"
        },
        "id": "dL2ISAq67v_d",
        "outputId": "5e681812-048f-4438-dba8-e191827510ac"
      },
      "execution_count": 33,
      "outputs": [
        {
          "output_type": "execute_result",
          "data": {
            "text/plain": [
              "[('Estudio de Viabilidad Solar',\n",
              "  'Análisis de viabilidad para la planta solar en Andes'),\n",
              " ('Impacto Ambiental Eólico',\n",
              "  'Evaluación del impacto ambiental del parque eólico en La Guajira'),\n",
              " ('Producción de Hidrógeno',\n",
              "  'Estudio de métodos de producción de hidrógeno verde'),\n",
              " ('Biomasa y Sostenibilidad',\n",
              "  'Análisis de sostenibilidad de la planta de biomasa en Cauca'),\n",
              " ('Eficiencia Geotérmica',\n",
              "  'Estudio de eficiencia de la planta geotérmica en Nariño')]"
            ]
          },
          "metadata": {},
          "execution_count": 33
        }
      ]
    },
    {
      "cell_type": "markdown",
      "source": [
        "**Función NULLIF** <br> La función NULLIF compara dos expresiones y devuelve NULL si son iguales. Si no son iguales, devuelve la primera expresión"
      ],
      "metadata": {
        "id": "Me5KAloD8L9N"
      }
    },
    {
      "cell_type": "code",
      "source": [
        "cursor = con.execute(\"\"\"\n",
        "                      SELECT proyecto_id, NULLIF(monto, 0) AS monto\n",
        "                      FROM inversiones;\n",
        "                      \"\"\")\n",
        "rows = cursor.fetchall()  ## El metodo FETCHALL retorna los valores de la consulta\n",
        "rows  ## Retorna una tupla"
      ],
      "metadata": {
        "colab": {
          "base_uri": "https://localhost:8080/"
        },
        "id": "tnQ5tdw48KmS",
        "outputId": "a6ffb0d0-99ec-4203-d7ba-ca04929b93e9"
      },
      "execution_count": 34,
      "outputs": [
        {
          "output_type": "execute_result",
          "data": {
            "text/plain": [
              "[(1, 1000000.0),\n",
              " (2, 5000000.0),\n",
              " (3, 2000000.0),\n",
              " (4, 1500000.0),\n",
              " (5, 3000000.0)]"
            ]
          },
          "metadata": {},
          "execution_count": 34
        }
      ]
    },
    {
      "cell_type": "markdown",
      "source": [
        "Filtrado de proyectos cuya descripción contiene la palabra 'solar' (ignorando mayúsculas/minúsculas)"
      ],
      "metadata": {
        "id": "Z51nGoF38gdM"
      }
    },
    {
      "cell_type": "code",
      "source": [
        "cursor = con.execute(\"\"\"\n",
        "                      SELECT nombre, descripcion\n",
        "                      FROM proyectos\n",
        "                      WHERE LOWER(descripcion) LIKE '%solar%';\n",
        "                      \"\"\")\n",
        "rows = cursor.fetchall()  ## El metodo FETCHALL retorna los valores de la consulta\n",
        "rows  ## Retorna una tupla"
      ],
      "metadata": {
        "colab": {
          "base_uri": "https://localhost:8080/"
        },
        "id": "bFcZRTnBAk2E",
        "outputId": "9fd3ce55-33bf-4ec3-b8c7-06e8b7dd890b"
      },
      "execution_count": 35,
      "outputs": [
        {
          "output_type": "execute_result",
          "data": {
            "text/plain": [
              "[('Proyecto Solar Andes', 'Desarrollo de una planta de energía solar')]"
            ]
          },
          "metadata": {},
          "execution_count": 35
        }
      ]
    },
    {
      "cell_type": "markdown",
      "source": [
        "Eliminar espacios en blanco al principio y al final del nombre del proyecto"
      ],
      "metadata": {
        "id": "DqYoS60fA0r9"
      }
    },
    {
      "cell_type": "code",
      "source": [
        "cursor = con.execute(\"\"\" SELECT TRIM(nombre) AS nombre_limpio, descripcion\n",
        "                         FROM proyectos; \"\"\")\n",
        "rows = cursor.fetchall()  ## El metodo FETCHALL retorna los valores de la consulta\n",
        "rows  ## Retorna una tupla"
      ],
      "metadata": {
        "colab": {
          "base_uri": "https://localhost:8080/"
        },
        "id": "0dWA2Sz2A41j",
        "outputId": "dc3e7264-9d5b-4689-f699-957130d52af8"
      },
      "execution_count": 36,
      "outputs": [
        {
          "output_type": "execute_result",
          "data": {
            "text/plain": [
              "[('Proyecto Solar Andes', 'Desarrollo de una planta de energía solar'),\n",
              " ('Parque Eólico La Guajira', 'Generación de energía eólica'),\n",
              " ('Planta Hidrógeno Verde', 'Producción de hidrógeno verde'),\n",
              " ('Proyecto Biomasa Cauca', 'Generación de energía a partir de biomasa'),\n",
              " ('Planta Geotérmica Nariño', 'Producción de energía geotérmica')]"
            ]
          },
          "metadata": {},
          "execution_count": 36
        }
      ]
    },
    {
      "cell_type": "markdown",
      "source": [
        "Eliminar caracteres específicos al principio y al final de la cadena"
      ],
      "metadata": {
        "id": "39x2KuPOA_WU"
      }
    },
    {
      "cell_type": "code",
      "source": [
        "cursor = con.execute(\"\"\" SELECT LTRIM(RTRIM('xxxproyecto solarxxx', 'x'), 'x') AS nombre_limpio;\n",
        "                      \"\"\")\n",
        "rows = cursor.fetchall()  ## El metodo FETCHALL retorna los valores de la consulta\n",
        "rows  ## Retorna una tupla"
      ],
      "metadata": {
        "colab": {
          "base_uri": "https://localhost:8080/"
        },
        "id": "5zQVo4ZMBB4D",
        "outputId": "9948480c-fd6e-4b10-e80c-2946a67bc679"
      },
      "execution_count": 37,
      "outputs": [
        {
          "output_type": "execute_result",
          "data": {
            "text/plain": [
              "[('proyecto solar',)]"
            ]
          },
          "metadata": {},
          "execution_count": 37
        }
      ]
    },
    {
      "cell_type": "markdown",
      "source": [
        "Extraer los primeros 10 caracteres del nombre del proyecto"
      ],
      "metadata": {
        "id": "PWqEdNesBj6t"
      }
    },
    {
      "cell_type": "code",
      "source": [
        "cursor = con.execute(\"\"\"\n",
        "                    SELECT SUBSTR(nombre, 1, 10) AS nombre_corto, descripcion\n",
        "                    FROM proyectos;\n",
        "                      \"\"\")\n",
        "rows = cursor.fetchall()  ## El metodo FETCHALL retorna los valores de la consulta\n",
        "rows  ## Retorna una tupla"
      ],
      "metadata": {
        "colab": {
          "base_uri": "https://localhost:8080/"
        },
        "id": "UnO29_65BoH8",
        "outputId": "645eb562-4f68-4b1b-fa86-7bcea6e4a12d"
      },
      "execution_count": 38,
      "outputs": [
        {
          "output_type": "execute_result",
          "data": {
            "text/plain": [
              "[('Proyecto S', 'Desarrollo de una planta de energía solar'),\n",
              " ('Parque Eól', 'Generación de energía eólica'),\n",
              " ('Planta Hid', 'Producción de hidrógeno verde'),\n",
              " ('Proyecto B', 'Generación de energía a partir de biomasa'),\n",
              " ('Planta Geo', 'Producción de energía geotérmica')]"
            ]
          },
          "metadata": {},
          "execution_count": 38
        }
      ]
    },
    {
      "cell_type": "markdown",
      "source": [
        "Extraer parte del nombre del proyecto desde el carácter 3 hasta el final"
      ],
      "metadata": {
        "id": "qpGMIB5SBwpD"
      }
    },
    {
      "cell_type": "code",
      "source": [
        "cursor = con.execute(\"\"\"\n",
        "                    SELECT SUBSTR(nombre, 3) AS nombre_parcial, descripcion\n",
        "                    FROM proyectos;\n",
        "                      \"\"\")\n",
        "\n",
        "rows = cursor.fetchall()  ## El metodo FETCHALL retorna los valores de la consulta\n",
        "\n",
        "rows  ## Retorna una tupla"
      ],
      "metadata": {
        "colab": {
          "base_uri": "https://localhost:8080/"
        },
        "id": "fzQGiak7BucY",
        "outputId": "1203c360-21c2-46a3-d48f-51fe497c3b3d"
      },
      "execution_count": 39,
      "outputs": [
        {
          "output_type": "execute_result",
          "data": {
            "text/plain": [
              "[('oyecto Solar Andes', 'Desarrollo de una planta de energía solar'),\n",
              " ('rque Eólico La Guajira', 'Generación de energía eólica'),\n",
              " ('anta Hidrógeno Verde', 'Producción de hidrógeno verde'),\n",
              " ('oyecto Biomasa Cauca', 'Generación de energía a partir de biomasa'),\n",
              " ('anta Geotérmica Nariño', 'Producción de energía geotérmica')]"
            ]
          },
          "metadata": {},
          "execution_count": 39
        }
      ]
    },
    {
      "cell_type": "markdown",
      "source": [
        "**Transacciones en SQL**: <br> Una transacción es una secuencia de una o más operaciones SQL que se ejecutan como una única unidad de trabajo. Las transacciones aseguran que las operaciones se realicen de manera coherente y se pueden deshacer en caso de error."
      ],
      "metadata": {
        "id": "QGQW3QXGB501"
      }
    },
    {
      "cell_type": "markdown",
      "source": [
        "**BEGIN TRANSACTION:** <br> Inicia una transacción.\n",
        "<br>**COMMIT:** <br>Confirma las operaciones realizadas durante la transacción.\n",
        "<br>**ROLLBACK:**<br> Revierte las operaciones realizadas durante la transacción si hay errores\n"
      ],
      "metadata": {
        "id": "zGTxLUQUk6NX"
      }
    },
    {
      "cell_type": "code",
      "source": [
        "query = \"\"\" BEGIN TRANSACTION;\n",
        "            UPDATE proyectos\n",
        "            SET tipo_energia = 'INVALIDO'  -- Error intencional (inserción de texto en una columna numérica)\n",
        "            WHERE id_proyecto = 2;\n",
        "            -- Revertir la transacción debido al error\n",
        "            ROLLBACK;\n",
        "            \"\"\"\n",
        "cursor = con.executescript(query)"
      ],
      "metadata": {
        "id": "hJVnyLsDlvgu"
      },
      "execution_count": null,
      "outputs": []
    },
    {
      "cell_type": "code",
      "source": [
        "cursor = con.execute(\"SELECT * FROM proyectos\")\n",
        "\n",
        "rows = cursor.fetchall()\n",
        "\n",
        "rows  ## Retorna una tupla"
      ],
      "metadata": {
        "colab": {
          "base_uri": "https://localhost:8080/"
        },
        "id": "vSP58jA5ov9j",
        "outputId": "ae84980c-f7e2-46be-a90e-b2f0b81382ca"
      },
      "execution_count": null,
      "outputs": [
        {
          "output_type": "execute_result",
          "data": {
            "text/plain": [
              "[(1,\n",
              "  'Proyecto Solar Andes',\n",
              "  'Desarrollo de una planta de energía solar',\n",
              "  3,\n",
              "  'Andes',\n",
              "  '2022-01-01',\n",
              "  '2023-01-01'),\n",
              " (2,\n",
              "  'Parque Eólico La Guajira',\n",
              "  'Generación de energía eólica',\n",
              "  2,\n",
              "  'La Guajira',\n",
              "  '2021-05-01',\n",
              "  '2022-12-01'),\n",
              " (3,\n",
              "  'Planta Hidrógeno Verde',\n",
              "  'Producción de hidrógeno verde',\n",
              "  1,\n",
              "  'Cartagena',\n",
              "  '2023-03-01',\n",
              "  '2024-03-01'),\n",
              " (4,\n",
              "  'Proyecto Biomasa Cauca',\n",
              "  'Generación de energía a partir de biomasa',\n",
              "  4,\n",
              "  'Cauca',\n",
              "  '2022-06-01',\n",
              "  '2023-06-01'),\n",
              " (5,\n",
              "  'Planta Geotérmica Nariño',\n",
              "  'Producción de energía geotérmica',\n",
              "  5,\n",
              "  'Nariño',\n",
              "  '2023-01-01',\n",
              "  '2024-01-01')]"
            ]
          },
          "metadata": {},
          "execution_count": 100
        }
      ]
    },
    {
      "cell_type": "code",
      "source": [
        "### ¿Cuáles son los proyectos de energía solar con su costo de producción\n",
        "##   ordenados de mayor a menor?"
      ],
      "metadata": {
        "id": "H7MzV3F3qx9P"
      },
      "execution_count": null,
      "outputs": []
    },
    {
      "cell_type": "code",
      "source": [
        "## ¿Qué comunidades energéticas están asociadas con proyectos\n",
        "## de energía eólica?"
      ],
      "metadata": {
        "id": "yOcbQS3hq0ME"
      },
      "execution_count": null,
      "outputs": []
    },
    {
      "cell_type": "code",
      "source": [
        "## ¿Cuál es el costo promedio de producción para cada tipo de energía?"
      ],
      "metadata": {
        "id": "BzRLwiD3q34i"
      },
      "execution_count": null,
      "outputs": []
    },
    {
      "cell_type": "code",
      "source": [
        "query = \"\"\" SELECT p.nombre, e.costo_produccion\n",
        "            FROM proyectos p\n",
        "            JOIN eficiencia_energetica e ON p.id_proyecto = e.proyecto_id\n",
        "            WHERE p.tipo_energia = 3\n",
        "            ORDER BY e.costo_produccion DESC;\n",
        "            \"\"\"\n",
        "cursor = con.execute(query)\n",
        "rows = cursor.fetchall()\n",
        "rows  ## Retorna una tupla"
      ],
      "metadata": {
        "colab": {
          "base_uri": "https://localhost:8080/"
        },
        "id": "ZKOLCCk_rRP-",
        "outputId": "6bcfda20-214e-4840-a396-a6e97af99f02"
      },
      "execution_count": null,
      "outputs": [
        {
          "output_type": "execute_result",
          "data": {
            "text/plain": [
              "[('Proyecto Solar Andes', 101250.0),\n",
              " ('Proyecto Solar Andes', 101000.0),\n",
              " ('Proyecto Solar Andes', 100750.0),\n",
              " ('Proyecto Solar Andes', 100500.0),\n",
              " ('Proyecto Solar Andes', 100250.0),\n",
              " ('Proyecto Solar Andes', 100000.0),\n",
              " ('Proyecto Solar Andes', 99500.0),\n",
              " ('Proyecto Solar Andes', 99250.0),\n",
              " ('Proyecto Solar Andes', 99000.0),\n",
              " ('Proyecto Solar Andes', 98750.0)]"
            ]
          },
          "metadata": {},
          "execution_count": 103
        }
      ]
    },
    {
      "cell_type": "code",
      "source": [
        "query = \"\"\" SELECT c.nombre, p.nombre AS proyecto\n",
        "            FROM comunidades_energeticas c\n",
        "            JOIN proyectos p ON c.proyecto_asociado = p.id_proyecto\n",
        "            WHERE p.tipo_energia = 2;\n",
        "            \"\"\"\n",
        "cursor = con.execute(query)\n",
        "rows = cursor.fetchall()\n",
        "rows  ## Retorna una tupla"
      ],
      "metadata": {
        "colab": {
          "base_uri": "https://localhost:8080/"
        },
        "id": "aEqwLiUbrcsi",
        "outputId": "0a5e799c-a44c-4ae7-826d-95815b32f2ea"
      },
      "execution_count": null,
      "outputs": [
        {
          "output_type": "execute_result",
          "data": {
            "text/plain": [
              "[('Comunidad Eólica La Guajira', 'Parque Eólico La Guajira')]"
            ]
          },
          "metadata": {},
          "execution_count": 104
        }
      ]
    },
    {
      "cell_type": "code",
      "source": [
        "query = \"\"\" SELECT t.tipo, AVG(e.costo_produccion) AS costo_promedio\n",
        "            FROM eficiencia_energetica e\n",
        "            JOIN tipos_energia t ON e.tipo_energia_id = t.id_tipo\n",
        "            GROUP BY t.tipo;            \"\"\"\n",
        "cursor = con.execute(query)\n",
        "rows = cursor.fetchall()\n",
        "rows  ## Retorna una tupla"
      ],
      "metadata": {
        "colab": {
          "base_uri": "https://localhost:8080/"
        },
        "id": "dQTElXLnrxlN",
        "outputId": "25136578-0647-4f14-f880-96ddeebfcef1"
      },
      "execution_count": null,
      "outputs": [
        {
          "output_type": "execute_result",
          "data": {
            "text/plain": [
              "[('Biomasa', 110025.0),\n",
              " ('Eólica', 150025.0),\n",
              " ('Geotérmica', 130025.0),\n",
              " ('Hidrógeno Verde', 120025.0),\n",
              " ('Solar', 100025.0)]"
            ]
          },
          "metadata": {},
          "execution_count": 105
        }
      ]
    },
    {
      "cell_type": "markdown",
      "source": [
        "Los índices son estructuras de datos que mejoran la velocidad de recuperación de datos en una tabla a costa de un mayor espacio de almacenamiento y tiempo de inserción. Los índices se crean en columnas que se utilizan frecuentemente en cláusulas WHERE, JOIN y ORDER BY."
      ],
      "metadata": {
        "id": "WrFU9MF0w5J-"
      }
    },
    {
      "cell_type": "code",
      "source": [
        "query = \"\"\" CREATE INDEX idx_proyecto_id ON eficiencia_energetica(proyecto_id); \"\"\"\n",
        "cursor = con.execute(query)"
      ],
      "metadata": {
        "id": "JL-EUZBHr7fa"
      },
      "execution_count": null,
      "outputs": []
    },
    {
      "cell_type": "code",
      "source": [
        "con.commit()"
      ],
      "metadata": {
        "id": "bbbLRJ5fwwo5"
      },
      "execution_count": null,
      "outputs": []
    },
    {
      "cell_type": "code",
      "source": [
        "query = \"\"\" EXPLAIN QUERY PLAN\n",
        "            SELECT * FROM eficiencia_energetica\n",
        "            WHERE proyecto_id = 1;\n",
        "              \"\"\"\n",
        "cursor = con.execute(query)"
      ],
      "metadata": {
        "id": "oob_ycRKxBCG"
      },
      "execution_count": null,
      "outputs": []
    },
    {
      "cell_type": "code",
      "source": [
        "rows = cursor.fetchall()\n",
        "rows  ## Retorna una tupla"
      ],
      "metadata": {
        "id": "yD2fSYR5xH6G",
        "outputId": "d5bbad27-46b1-4199-bc17-4ef3bacaa86a",
        "colab": {
          "base_uri": "https://localhost:8080/"
        }
      },
      "execution_count": null,
      "outputs": [
        {
          "output_type": "execute_result",
          "data": {
            "text/plain": [
              "[(3,\n",
              "  0,\n",
              "  0,\n",
              "  'SEARCH eficiencia_energetica USING INDEX idx_proyecto_id (proyecto_id=?)')]"
            ]
          },
          "metadata": {},
          "execution_count": 110
        }
      ]
    }
  ]
}